{
 "cells": [
  {
   "cell_type": "markdown",
   "id": "639c8d85-7f37-4ce9-8efb-a565a035eab1",
   "metadata": {},
   "source": [
    "# Pengenalan JupyterHub"
   ]
  },
  {
   "cell_type": "code",
   "execution_count": 4,
   "id": "4acf5b77-1f75-4fac-98e1-ce5ac65b1326",
   "metadata": {},
   "outputs": [
    {
     "name": "stdout",
     "output_type": "stream",
     "text": [
      "Enabling notebook extension rise/main...\n",
      "      - Validating: \u001b[32mOK\u001b[0m\n"
     ]
    }
   ],
   "source": [
    "!jupyter-nbextension enable rise --py --sys-prefix"
   ]
  },
  {
   "cell_type": "markdown",
   "id": "2cc273f2-63a8-45af-8327-934c7b027e01",
   "metadata": {},
   "source": [
    "## Notebook\n",
    "\n",
    "Format dokumen yang bisa menyatukan kode yang bisa dieksekusi, visualisasi, dan teks [Markdown](https://medium.com/analytics-vidhya/the-ultimate-markdown-guide-for-jupyter-notebook-d5e5abf728fd). Sangat berguna untuk menjelaskan atau bercerita suatu konsep atau permasalahan. Populer digunakan dalam *reproducible research*. Saat ini banyak didukung oleh aplikasi dan layanan populer: \n",
    "\n",
    "- Jupyter Notebook;\n",
    "- RStudio\n",
    "- Visual Studio Code; fitur [Notebook](https://code.visualstudio.com/docs/datascience/jupyter-notebooks)\n",
    "- GitHub; mis. [Getting Started with Jupyter Notebook](https://github.com/Reproducible-Science-Curriculum/introduction-RR-Jupyter/blob/gh-pages/notebooks/getting_started_with_jupyter_notebooks.ipynb)\n",
    "- Kaggle; mis. [Movie recommendation system notebook](https://www.kaggle.com/codefreaksubhamml/movie-recommendation-system-vectorization-bow)\n"
   ]
  },
  {
   "cell_type": "markdown",
   "id": "c5890d0d-090c-41b5-85fc-c36656d2ac11",
   "metadata": {},
   "source": [
    "## Sekilas JupyterHub\n",
    "\n",
    "JupyterHub adalah multi-user Jupyter Notebook yang berjalan di [infrastruktur sendiri](https://zero-to-jupyterhub.readthedocs.io/en/latest/index.html) atau di penyedia-awan dan menyediakan lingkungan (workspace) untuk mengeksplorasi dan publikasi data untuk user yang tidak ingin repot dengan rumitnya instalasi bermacam hal di komputer pribadinya. \n",
    "\n",
    "Lingkungan tersebut memiliki banyak kelebihan:\n",
    "\n",
    "- **Mudah dikustomisasi**: menyediakan beragam 'kernel' (R, Julia, Python) dan bisa diakses dari beragam antarmuka (Jupyter Notebook, RStudio, dll)\n",
    "- **Fleksibel**: pembatasan akses lewat SSO internal, hanya untuk pengguna tertentu\n",
    "- **Scalable**: container-based dan berjalan dan dikelola lewat infrastruktur Kubernetes; jumlah pengguna yang didukung dapat dengan mudah disesuaikan dengan ketersediaan sumberdaya komputasi\n"
   ]
  },
  {
   "cell_type": "markdown",
   "id": "7a0949e2-f642-4c73-b5c7-7d976640d7b4",
   "metadata": {},
   "source": [
    "## JupyterHub BPK\n",
    "\n",
    "JupyterHub BPK tersedia di https://jupyterhub.bpk.go.id. Saat ini sementara dibatasi untuk peserta DAC dan pegawai tertentu. \n",
    "\n",
    "![](public/assets/jupi-01.png)\n",
    "\n",
    "### Fitur yang tersedia\n",
    "\n",
    "- Notebook dan Shell Console \n",
    "- Publish aplikasi Shiny\n",
    "- Publish aplikasi Dash (python)\n",
    "\n",
    "### Pembuatan Notebook\n",
    "\n",
    "Notebook dapat digunakan untuk eksplorasi data dan membuat narasi dari kemajuan ekplorasi Anda.\n",
    "\n",
    "- Dari launcher, silakan pilih jenis Notebook berdasarkan kernel yang didukung (R dan Python).\n",
    "- Saat ini mendukung akses ke database SQL Server, MySQL, dan SQLite\n",
    "- Basis workspace image adalah [Datascience docker image](https://jupyter-docker-stacks.readthedocs.io/en/latest/using/selecting.html#jupyter-datascience-notebook) dengan tambahan library yang umum digunakan di https://dashboard.bpk.go.id.\n",
    "- Tentukan *framework* yang digunakan; JupyterHub BPK mendukung publikasi untuk aplikasi Shiny dan Dash python.\n",
    "\n",
    "### Publikasi\n",
    "\n",
    "Setelah eksplorasi, saatnya mempublikasikan karya Anda agar bisa dilihat dan digunakan oleh pegawai BPK lainnya.\n",
    "\n",
    "Untuk kode R/Shiny, buat folder `public` di root folder. Anda bisa mempublikasikan dalam bentuk RMarkdown atau App. Untuk app, pastikan ada `app.R` dengan kode yang memanggil `shinyApp()`. Untuk markdown, copy-paste notebook anda ke dalam file dengan ekstensi Rmd.\n",
    "\n",
    "RMarkdown/Shiny akan tersedia di https://dashboard.bpk.go.id/NAMA-AKUN-BPK, mis. https://dashboard.bpk.go.id/pingky.\n",
    "\n",
    "Untuk Dash, buat folder `dash` dan buat file `app.py` yang mem-bootstrap aplikasi Dash anda. Aplikasi akan tersedia di https://NAMA-AKUN-BPK.dac.dashboard.bpk.go.id, mis. https://hafizhuddin-amin.dac.dashboard.bpk.go.id\n",
    "\n",
    "Selain di atas, Notebook dapat anda unduh dan diunggah ulang mis. di repositori publik Anda di GitHub untuk di-render di sana, atau diekspor sebagai PDF, HTML, dan Slide; keduanya lewat menu `File > Download` atau `File > Save and Export Notebook As`.\n",
    "\n",
    "### Berbagi Notebook\n",
    "\n",
    "Saat ini, JupyterHub BPK belum menyediakan cara yang mudah untuk berbagi dengan user lain. Sementara ini gunakan fitur `Download`. "
   ]
  },
  {
   "cell_type": "markdown",
   "id": "f455f21a-edcf-4f19-8483-c3f34fed0b89",
   "metadata": {},
   "source": [
    "## Demo"
   ]
  },
  {
   "cell_type": "markdown",
   "id": "7a5f66db-646a-46c0-9685-d634aaed9689",
   "metadata": {},
   "source": [
    "# RPubs\n",
    "\n",
    "Layanan publikasi [RPubs](https://rpubs.com/) terintegrasi dengan RStudio. Untuk mempublish tulisan kita, cukup dengan mengikuti langkah berikut:\n",
    "\n",
    "- Registrasi di RPubs lalu login\n",
    "- Buat file RMarkdown di RStudio\n",
    "- Klik tombol `Knit to HTML` yang ada di toolbar\n",
    "- Publish\n",
    "\n",
    "![](public/assets/rpub-02.png)\n",
    "\n",
    "![](public/assets/rpub-03.png)\n",
    "\n",
    "![](public/assets/rpub-04.png)\n",
    "\n",
    "![](public/assets/rpub-05.png)\n",
    "\n",
    "\n",
    "# Shinyapps.io\n",
    "\n",
    "Sama dengan RPubs, Shinyapps.io terintegrasi dengan RStudio. \n",
    "\n",
    "- Registrasi dan login di https://shinyapps.io\n",
    "- Buka project di RStudio\n",
    "- Klik tombol Run App di viewer, klik tombol Publish, lalu pilih ShinyApps\n",
    "\n",
    "![](public/assets/shiny-02.png)\n",
    "\n",
    "![](public/assets/shiny-03.png)\n",
    "\n",
    "- Ikuti petunjuk yang diberikan untuk menghubungkan ShinyApps dan RStudio\n",
    "\n"
   ]
  },
  {
   "cell_type": "code",
   "execution_count": null,
   "id": "d9119654-2712-4cc1-90e1-5d7a3e4d1aa2",
   "metadata": {},
   "outputs": [],
   "source": []
  }
 ],
 "metadata": {
  "kernelspec": {
   "display_name": "Python 3 (ipykernel)",
   "language": "python",
   "name": "python3"
  },
  "language_info": {
   "codemirror_mode": {
    "name": "ipython",
    "version": 3
   },
   "file_extension": ".py",
   "mimetype": "text/x-python",
   "name": "python",
   "nbconvert_exporter": "python",
   "pygments_lexer": "ipython3",
   "version": "3.9.7"
  }
 },
 "nbformat": 4,
 "nbformat_minor": 5
}
